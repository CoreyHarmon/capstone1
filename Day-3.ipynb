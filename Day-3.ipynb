{
 "cells": [
  {
   "cell_type": "markdown",
   "metadata": {},
   "source": [
    "# Python Virtual Environment:\n",
    "Create a new Virtual Environment:\n",
    "> python -m venv .venv\n",
    "Activate the virtual environment:\n",
    "- Windows:\n",
    "`.venv\\Scripts\\activate.bat`\n",
    "- Mac/Linux:\n",
    "`source .venv/bin/activate`\n",
    "Confirm in Command Prompt that prefix `(venv)` is visible\n",
    "Deactivate:\n",
    "> deactivate\n",
    "-m flag makes sure that you are using the pip that's tied to the active Python executable.\n",
    "It's good practice to always use -m, even if you have just one global version of Python installed from which you create virtual environments."
   ]
  },
  {
   "cell_type": "markdown",
   "metadata": {},
   "source": [
    "## Virtual Environment Setup\n",
    "1. To set up a virtual environment, open a terminal in your VS Code project, inside your project directory.\n",
    "2. Type `python -m venv .venv` to create a virtual environment in the `.venv` directory.\n",
    "3. Activate your virtual environment\n",
    "1. Windows - `.venv\\Scripts\\activate.bat`\n",
    "2. macOS or Linux - `source .venv/bin/activate`\n",
    "4. Once the virtual environment is activate, install the required packages for the course with `pip install -r requirements.txt`\n",
    "5. Once the installation is complete (this could take a while), verify that you have Jupyter Notebooks installed by opening them with the `jupyter notebook` command in the terminal."
   ]
  },
  {
   "cell_type": "markdown",
   "metadata": {},
   "source": [
    "'''bash\n",
    "DO THIS TO MAKE CODE INTO BASH FORMAT\n",
    "'''\n",
    "\n",
    "## Login with a specific Email Address\n",
    "az login -u email@address.com\n",
    "\n",
    "## Set Subscription to your commands\n",
    "az account set --subscription \"subscription_id\"\n",
    "\n",
    "## Show Subscriptipn List related to the account\n",
    "az account list\n",
    "\n",
    "## List locations\n",
    "az account list-locations -o table\n",
    "\n",
    "## List Resources\n",
    "az resource list -o table\n",
    "\n",
    "## Azure Command line tools version\n",
    "az -- version OR az -v\n",
    "\n"
   ]
  },
  {
   "cell_type": "markdown",
   "metadata": {},
   "source": [
    "# Storage Deployment:\n",
    "#### Login to Azure Account:\n",
    "az login\n",
    "#### Create a Resource Group:\n",
    "az group create -n azure-storage-group -l centralus\n",
    "#### Create a Storage Account:\n",
    "az storage account create -g azure-storage-group -l centralus -n ankitas202401ceiwd\n",
    "#### Connection String > Authenticate via CLI\n",
    "We need a way to authenticate Azure operations when we interact with our Storage resources. And ConnectionString is one way of authenticating via a CLI. We need a way to authenticate with the same resource in a repeatable fashion and ConnectionStrings solve this problem. For security purposes a ConnectionString should be stored in vaults/passwords.\n",
    "az storage account show-connection-string -g azure-storage-group -n ankitas202401ceiwd --query connectionString\n",
    "az storage container create --name \"ankit-blob-container\" --account-name ankitas202401ceiwd --connection-string \"DefaultEndpointsProtocol=https;EndpointSuffix=core.windows.net;AccountName=ankitas202401ceiwd;AccountKey=ePpHeTPzci47etOgVTIJH+njCORVGM4LRA7aNKTHrYHbvBHx6oFRVuJCQPh4eVHQdWagIa7aarc0+ASt2F6dgw==;BlobEndpoint\""
   ]
  }
 ],
 "metadata": {
  "language_info": {
   "name": "python"
  }
 },
 "nbformat": 4,
 "nbformat_minor": 2
}
