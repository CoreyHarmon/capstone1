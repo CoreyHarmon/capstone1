{
 "cells": [
  {
   "cell_type": "markdown",
   "metadata": {},
   "source": [
    "## 5 words to be familiar with"
   ]
  },
  {
   "cell_type": "markdown",
   "metadata": {},
   "source": [
    "### to get commands and advanced commands\n",
    "terafform --help "
   ]
  },
  {
   "cell_type": "code",
   "execution_count": null,
   "metadata": {
    "vscode": {
     "languageId": "plaintext"
    }
   },
   "outputs": [],
   "source": [
    "Main commands:\n",
    "  init          Prepare your working directory for other commands\n",
    "  validate      Check whether the configuration is valid\n",
    "  plan          Show changes required by the current configuration\n",
    "  apply         Create or update infrastructure\n",
    "  destroy       Destroy previously-created infrastructure\n",
    "\n",
    "All other commands:\n",
    "  console       Try Terraform expressions at an interactive command prompt\n",
    "  fmt           Reformat your configuration in the standard style\n",
    "  force-unlock  Release a stuck lock on the current workspace\n",
    "  get           Install or upgrade remote Terraform modules\n",
    "  graph         Generate a Graphviz graph of the steps in an operation\n",
    "  import        Associate existing infrastructure with a Terraform resource\n",
    "  login         Obtain and save credentials for a remote host\n",
    "  logout        Remove locally-stored credentials for a remote host\n",
    "  metadata      Metadata related commands\n",
    "  output        Show output values from your root module\n",
    "  providers     Show the providers required for this configuration\n",
    "  refresh       Update the state to match remote systems\n",
    "  show          Show the current state or a saved plan\n",
    "  state         Advanced state management\n",
    "  taint         Mark a resource instance as not fully functional\n",
    "  test          Execute integration tests for Terraform modules\n",
    "  untaint       Remove the 'tainted' state from a resource instance\n",
    "  version       Show the current Terraform version\n",
    "  workspace     Workspace management\n",
    "\n",
    "Global options (use these before the subcommand, if any):\n",
    "  -chdir=DIR    Switch to a different working directory before executing the\n",
    "                given subcommand.\n",
    "  -help         Show this help output, or the help for a specified subcommand.\n",
    "  -version      An alias for the \"version\" subcommand."
   ]
  },
  {
   "cell_type": "markdown",
   "metadata": {},
   "source": [
    "\n",
    "# Deploy First Terraform IaC\n",
    "### Pre-reqesite for your Terminal: Login to Azure Account from Azure CLI:\n",
    "```bash\n",
    "# Azure CLI Login\n",
    "az login\n",
    "# List Subscriptions\n",
    "az account list\n",
    "# Set Specific Subscription (if we have multiple subscriptions)\n",
    "az account set --subscription=\"SUBSCRIPTION_ID\"\n",
    "```"
   ]
  },
  {
   "cell_type": "code",
   "execution_count": null,
   "metadata": {
    "vscode": {
     "languageId": "plaintext"
    }
   },
   "outputs": [],
   "source": [
    "6c126362-5dd1-4ed7-85b2-399e4376d0dc"
   ]
  },
  {
   "cell_type": "markdown",
   "metadata": {},
   "source": [
    "[12:55 PM] Ankit Jariwala\n",
    "## Terraform Workflow with Resource Groups:\n",
    "1. Create a `Directory/Folder` for our Terraform Project ***(best practice to spearate all the `.tf` files)***\n",
    "> mkdir 01_Resource_Group\n",
    "2. Navigate to that `Directory/Folder`\n",
    "> cd 01_Resource_Group\n",
    "3. Create a `.tf` file\n",
    "> touch azure-resource-group.tf\n",
    "and add following HCL Language Code:\n",
    "```bash\n",
    "# Terraform Settings coded in HCL Langague\n",
    "terraform {​​​​​​\n",
    " required_version = \">= 1.0.0\"\n",
    " required_providers {​​​​​​\n",
    " azurerm = {​​​​​​\n",
    " source = \"hashicorp/azurerm\"\n",
    " version = \">= 2.0\"\n",
    " }​​​​​​\n",
    " }​​​​​​\n",
    "}​​​​​​\n",
    "# Configure Microsoft Azure Provider\n",
    "provider \"azurerm\"{​​​​​​\n",
    " features {​​​​​​}​​​​​​\n",
    "}​​​​​​\n",
    "# Create/Provision Resources\n",
    "# Resource Group\n",
    "resource \"azurerm_resource_group\" \"my_demo_rg_202401CEIWD\" {​​​​​​\n",
    " location = \"centralus\"\n",
    " name = \"my_demo_rg_202401CEIWD\"\n",
    "}​​​​​​\n",
    "# Azure Command Line the code t0 Create a Resource Group was:\n",
    "# az group create -n azure-storage-group -l centralus\n",
    "```\n",
    "4. Run Terraform Core Commands:\n",
    "```bash\n",
    "# Terraform Initialize\n",
    "terraform init\n",
    "# Terraform Validate\n",
    "terraform validate\n",
    "# Terraform Plan to Verify what it is going to create / update / destroy\n",
    "terraform plan\n",
    "# Terraform Apply to Create Resources\n",
    "terraform apply \n",
    "```\n",
    "5. Verify in Azure Portal that the resource is created\n",
    " - Go to Azure Management Console -> Resource Groups \n",
    " - Verify newly created Resource Group\n",
    " - Review `azure-resource-group.tfstate` file \n",
    "6. Get Terraform to delete that Resource Group\n",
    "> terraform destroy"
   ]
  },
  {
   "cell_type": "markdown",
   "metadata": {},
   "source": [
    "az ad sp create-for-rbac --role=\"Contributor\" --scopes=\"/subscriptions/6c126362-5dd1-4ed7-85b2-399e4376d0dc\"\n",
    "\n",
    "6c126362-5dd1-4ed7-85b2-399e4376d0dc"
   ]
  },
  {
   "cell_type": "markdown",
   "metadata": {},
   "source": [
    "# Environment Vairables\n",
    "Set Service Pricipal as Environment Variables rather than saving them in Terraform Configuration.\n",
    "```powershell\n",
    "$ $Env:ARM_CLIENT_ID = \"<APPID_VALUE>\"\n",
    "$ $Env:ARM_CLIENT_SECRET = \"<PASSWORD_VALUE>\"\n",
    "$ $Env:ARM_SUBSCRIPTION_ID = \"<SUBSCRIPTION_ID>\"\n",
    "$ $Env:ARM_TENANT_ID = \"<TENANT_VALUE>\"\n",
    "```\n",
    "```bash\n",
    "export ARM_CLIENT_ID=\"<APPID_VALUE>\"\n",
    "export ARM_CLIENT_SECRET=\"<PASSWORD_VALUE>\"\n",
    "export ARM_SUBSCRIPTION_ID=\"<SUBSCRIPTION_ID>\"\n",
    "export ARM_TENANT_ID=\"<TENANT_VALUE>\"\n",
    "```"
   ]
  },
  {
   "cell_type": "code",
   "execution_count": null,
   "metadata": {
    "vscode": {
     "languageId": "plaintext"
    }
   },
   "outputs": [],
   "source": [
    "resource \"azurerm_virtual_network\" \"vnet\" {\n",
    "    name = \"vnet_terraform_demo\"\n",
    "}"
   ]
  }
 ],
 "metadata": {
  "language_info": {
   "name": "python"
  }
 },
 "nbformat": 4,
 "nbformat_minor": 2
}
