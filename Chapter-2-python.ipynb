{
 "cells": [
  {
   "cell_type": "markdown",
   "metadata": {},
   "source": [
    "## 2-1"
   ]
  },
  {
   "cell_type": "code",
   "execution_count": null,
   "metadata": {},
   "outputs": [],
   "source": [
    "# Create a program that allows a student to complete a registration form and displays a\n",
    "# completion message that includes the user’s full name and a temporary password.\n",
    "\n",
    "\n",
    "\n",
    "print(\"Registration Form\")\n",
    "first_name = input(\"First name: \")\n",
    "last_name = input(\"Last name: \")\n",
    "birth_year = input(\"Birth year: \")\n",
    "\n",
    "full_name = f\"{first_name} {last_name}\"\n",
    "\n",
    "temp_password = f\"{first_name}*{birth_year}\"\n",
    "\n",
    "print(f\"Welcome {full_name}!\")\n",
    "print(\"Your registration is complete.\")\n",
    "print(f\"Your temporary password is: {temp_password}\")"
   ]
  },
  {
   "cell_type": "markdown",
   "metadata": {},
   "source": [
    "## 2-2"
   ]
  },
  {
   "cell_type": "code",
   "execution_count": null,
   "metadata": {},
   "outputs": [],
   "source": [
    "# Create a program that calculates a user’s weekly gross and take-home pay\n",
    "\n",
    "TAX_RATE = 18\n",
    "\n",
    "hours_worked = float(input(\"Hours Worked: \"))\n",
    "hourly_rate = float(input(\"Hourly Pay Rate: \"))\n",
    "\n",
    "gross_pay = round(hours_worked * hourly_rate, 2)\n",
    "\n",
    "tax_amount = round(gross_pay * (TAX_RATE / 100), 2)\n",
    "\n",
    "take_home_pay = round(gross_pay - tax_amount, 2)\n",
    "\n",
    "print(\"\\nPay Check Calculator\")\n",
    "print(f\"Gross Pay: {gross_pay}\")\n",
    "print(f\"Tax Rate: {TAX_RATE}%\")\n",
    "print(f\"Tax Amount: {tax_amount}\")\n",
    "print(f\"Take Home Pay: {take_home_pay}\")\n"
   ]
  },
  {
   "cell_type": "markdown",
   "metadata": {},
   "source": [
    "## 2-3"
   ]
  },
  {
   "cell_type": "code",
   "execution_count": null,
   "metadata": {},
   "outputs": [],
   "source": [
    "# Create a program that calculates the tip and total for a meal at a restaurant.\n",
    "\n",
    "\n",
    "print(\"Tip Calculator\")\n",
    "print()\n",
    "cost_of_meal = float(input(\"Cost of Meal: \"))\n",
    "tip_percent = float(input(\"Tip Percent: \"))\n",
    "\n",
    "tip = cost_of_meal * (tip_percent / 100)\n",
    "\n",
    "tip_amount = float(input(cost_of_meal / tip))\n",
    "total_amount = float(input(cost_of_meal + tip))"
   ]
  },
  {
   "cell_type": "markdown",
   "metadata": {},
   "source": [
    "## 2-4"
   ]
  },
  {
   "cell_type": "code",
   "execution_count": null,
   "metadata": {},
   "outputs": [],
   "source": [
    "# Create a program that compares the unit prices for two sizes of laundry detergent sold at a\n",
    "# grocery store.\n",
    "\n",
    "print(\"Price Comparison\")\n",
    "print()\n",
    "price_of_64_oz_size = float(input(\"Price of 64 oz size: \"))\n",
    "price_of_32_oz_size = float(input(\"Price of 32 oz size: \"))\n",
    "\n",
    "price_per_ounce_64 =  price_of_64_oz_size / 64\n",
    "price_per_ounce_32 =  price_of_32_oz_size / 32\n",
    "\n",
    "print(float(input(f\"Price per oz, 64 oz {price_per_ounce_64}\")))\n",
    "print(float(input(f\"Price per oz, 32 oz {price_per_ounce_32}\")))"
   ]
  },
  {
   "cell_type": "markdown",
   "metadata": {},
   "source": [
    "## 2-5"
   ]
  },
  {
   "cell_type": "code",
   "execution_count": null,
   "metadata": {},
   "outputs": [],
   "source": [
    "# Create a program that calculates the estimated hours and minutes for a trip.\n",
    "\n",
    "print(\"Travel Time Calculator\")\n",
    "\n",
    "print()\n",
    "\n",
    "enter_miles = int(input(\"Enter Miles: \"))\n",
    "miles_per_hour = int(input(\"Enter miles per hour: \"))\n",
    "\n",
    "print()\n",
    "\n",
    "hours = enter_miles // miles_per_hour\n",
    "minutes = enter_miles % miles_per_hour * 60 // miles_per_hour\n",
    "    \n",
    " \n",
    "print(\"Estimated travel time\")\n",
    "print(\"Hours:\", hours)\n",
    "print(\"Minutes:\", minutes)"
   ]
  }
 ],
 "metadata": {
  "language_info": {
   "name": "python"
  }
 },
 "nbformat": 4,
 "nbformat_minor": 2
}
